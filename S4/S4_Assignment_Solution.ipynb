{
  "nbformat": 4,
  "nbformat_minor": 0,
  "metadata": {
    "colab": {
      "provenance": [],
      "include_colab_link": true
    },
    "kernelspec": {
      "name": "python3",
      "display_name": "Python 3"
    },
    "accelerator": "GPU",
    "gpuClass": "standard"
  },
  "cells": [
    {
      "cell_type": "markdown",
      "metadata": {
        "id": "view-in-github",
        "colab_type": "text"
      },
      "source": [
        "<a href=\"https://colab.research.google.com/github/Mutum/Mutum-computer_vision_EVA/blob/main/S4/S4_Assignment_Solution.ipynb\" target=\"_parent\"><img src=\"https://colab.research.google.com/assets/colab-badge.svg\" alt=\"Open In Colab\"/></a>"
      ]
    },
    {
      "cell_type": "markdown",
      "metadata": {
        "id": "SAWtYhLEGJy7"
      },
      "source": [
        "\n",
        "\n",
        "**Objective** : Aim is to acheive 98-99 accuracy with less parameters. Here we reduced the number of parameters to **5,850**. In this notebook, we are refining the architecture with reference to [Kaggle Notebook](https://www.kaggle.com/enwei26/mnist-digits-pytorch-cnn-99)\n",
        "\n",
        "Ideas implemented:\n",
        "- Reducing the number output channels in conv block. Intuition behind using 10 channels is to represent each digits by one channels.\n",
        "- Removing Bias from the network to reduce parameters\n",
        "- Add transition block - Max pooling followed by 1*1 \n",
        "- Add Batch normalization"
      ]
    },
    {
      "cell_type": "code",
      "metadata": {
        "id": "0m2JWFliFfKT"
      },
      "source": [
        "from __future__ import print_function\n",
        "import torch\n",
        "import torch.nn as nn\n",
        "import torch.nn.functional as F\n",
        "import torch.optim as optim\n",
        "from torchvision import datasets, transforms\n",
        "\n",
        "from torch.optim.lr_scheduler import StepLR,OneCycleLR\n",
        "\n",
        "%matplotlib inline\n",
        "import matplotlib.pyplot as plt"
      ],
      "execution_count": 8,
      "outputs": []
    },
    {
      "cell_type": "code",
      "metadata": {
        "id": "h_Cx9q2QFgM7"
      },
      "source": [
        "class Net(nn.Module):\n",
        "    def __init__(self):\n",
        "        super(Net, self).__init__()\n",
        "\n",
        "        self.conv1 = nn.Sequential(\n",
        "            nn.Conv2d(1, 10, 3, padding=1, bias=False),  #Input:28x28 Output:26x26 GRF:3x3\n",
        "            nn.BatchNorm2d(10),\n",
        "            nn.ReLU(),\n",
        "\n",
        "            nn.Conv2d(10, 10, 3, padding=1, bias=False), #Input:26x26 Output:24x24 GRF:5x5\n",
        "            nn.BatchNorm2d(10),\n",
        "            nn.ReLU()    \n",
        "        )\n",
        "\n",
        "        self.trans1 = nn.Sequential(\n",
        "            nn.MaxPool2d(2, 2),  #Input:22x22 Output:11x11 GRF:14x14\n",
        "            nn.Conv2d(10, 10, 1, bias=False), #Input:22x22 Output:11x11 GRF:14x14\n",
        "            nn.BatchNorm2d(10),\n",
        "            nn.ReLU()\n",
        "        )\n",
        "\n",
        "        self.conv2 =  nn.Sequential(\n",
        "            nn.Conv2d(10, 10, 3, padding=1, bias=False), #Input:11x11 Output:9x9 GRF:16x16\n",
        "            nn.BatchNorm2d(10),\n",
        "            nn.ReLU(),\n",
        "\n",
        "            nn.Conv2d(10, 10, 3, padding=1, bias=False),  #Input:9x9 Output:7x7 GRF:18x18\n",
        "            nn.BatchNorm2d(10),\n",
        "            nn.ReLU()            \n",
        "        )\n",
        "\n",
        "        self.trans2 = nn.Sequential(\n",
        "            nn.MaxPool2d(2, 2),  #Input:22x22 Output:11x11 GRF:14x14\n",
        "            nn.Conv2d(10, 10, 1, bias=False), #Input:9x9 Output:7x7 GRF:18x18\n",
        "            nn.BatchNorm2d(10),\n",
        "            nn.ReLU()\n",
        "        )\n",
        "\n",
        "        self.conv3 = nn.Sequential(\n",
        "            nn.Conv2d(10, 10, 3, bias=False), #Input:7x7 Output:5x5 GRF:20x20\n",
        "            nn.BatchNorm2d(10),\n",
        "            nn.ReLU(),\n",
        "\n",
        "            nn.Conv2d(10, 10, 3, bias=False), #Input:5x5 Output:3x3 GRF:22x22\n",
        "            nn.BatchNorm2d(10),\n",
        "            nn.ReLU(),\n",
        "\n",
        "            nn.Conv2d(10, 10, 3, bias=False) #Input:5x5 Output:3x3 GRF:22x22\n",
        "        )\n",
        "\n",
        "    def forward(self, x):\n",
        "        x = self.conv1(x)\n",
        "        x = self.trans1(x)\n",
        "        x = self.conv2(x)\n",
        "        x = self.trans2(x)\n",
        "        x = self.conv3(x)\n",
        "\n",
        "        x = x.view(-1,10)\n",
        "        return F.log_softmax(x,dim=1)"
      ],
      "execution_count": 9,
      "outputs": []
    },
    {
      "cell_type": "code",
      "metadata": {
        "id": "xdydjYTZFyi3",
        "colab": {
          "base_uri": "https://localhost:8080/"
        },
        "outputId": "59ee78d6-9a88-4639-8517-a314f7c74eea"
      },
      "source": [
        "!pip install torchsummary\n",
        "from torchsummary import summary\n",
        "use_cuda = torch.cuda.is_available()\n",
        "device = torch.device(\"cuda\" if use_cuda else \"cpu\")\n",
        "model = Net().to(device)\n",
        "summary(model, input_size=(1, 28, 28))"
      ],
      "execution_count": 10,
      "outputs": [
        {
          "output_type": "stream",
          "name": "stdout",
          "text": [
            "Looking in indexes: https://pypi.org/simple, https://us-python.pkg.dev/colab-wheels/public/simple/\n",
            "Requirement already satisfied: torchsummary in /usr/local/lib/python3.8/dist-packages (1.5.1)\n",
            "----------------------------------------------------------------\n",
            "        Layer (type)               Output Shape         Param #\n",
            "================================================================\n",
            "            Conv2d-1           [-1, 10, 28, 28]              90\n",
            "       BatchNorm2d-2           [-1, 10, 28, 28]              20\n",
            "              ReLU-3           [-1, 10, 28, 28]               0\n",
            "            Conv2d-4           [-1, 10, 28, 28]             900\n",
            "       BatchNorm2d-5           [-1, 10, 28, 28]              20\n",
            "              ReLU-6           [-1, 10, 28, 28]               0\n",
            "         MaxPool2d-7           [-1, 10, 14, 14]               0\n",
            "            Conv2d-8           [-1, 10, 14, 14]             100\n",
            "       BatchNorm2d-9           [-1, 10, 14, 14]              20\n",
            "             ReLU-10           [-1, 10, 14, 14]               0\n",
            "           Conv2d-11           [-1, 10, 14, 14]             900\n",
            "      BatchNorm2d-12           [-1, 10, 14, 14]              20\n",
            "             ReLU-13           [-1, 10, 14, 14]               0\n",
            "           Conv2d-14           [-1, 10, 14, 14]             900\n",
            "      BatchNorm2d-15           [-1, 10, 14, 14]              20\n",
            "             ReLU-16           [-1, 10, 14, 14]               0\n",
            "        MaxPool2d-17             [-1, 10, 7, 7]               0\n",
            "           Conv2d-18             [-1, 10, 7, 7]             100\n",
            "      BatchNorm2d-19             [-1, 10, 7, 7]              20\n",
            "             ReLU-20             [-1, 10, 7, 7]               0\n",
            "           Conv2d-21             [-1, 10, 5, 5]             900\n",
            "      BatchNorm2d-22             [-1, 10, 5, 5]              20\n",
            "             ReLU-23             [-1, 10, 5, 5]               0\n",
            "           Conv2d-24             [-1, 10, 3, 3]             900\n",
            "      BatchNorm2d-25             [-1, 10, 3, 3]              20\n",
            "             ReLU-26             [-1, 10, 3, 3]               0\n",
            "           Conv2d-27             [-1, 10, 1, 1]             900\n",
            "================================================================\n",
            "Total params: 5,850\n",
            "Trainable params: 5,850\n",
            "Non-trainable params: 0\n",
            "----------------------------------------------------------------\n",
            "Input size (MB): 0.00\n",
            "Forward/backward pass size (MB): 0.53\n",
            "Params size (MB): 0.02\n",
            "Estimated Total Size (MB): 0.56\n",
            "----------------------------------------------------------------\n"
          ]
        }
      ]
    },
    {
      "cell_type": "code",
      "metadata": {
        "id": "DqTWLaM5GHgH"
      },
      "source": [
        "torch.manual_seed(1)\n",
        "batch_size = 128\n",
        "\n",
        "kwargs = {'num_workers': 1, 'pin_memory': True} if use_cuda else {}\n",
        "train = datasets.MNIST('../data', train=True, download=True,\n",
        "                    transform=transforms.Compose([\n",
        "                        transforms.RandomRotation((-7.0, 7.0)),\n",
        "                        transforms.ToTensor(),\n",
        "                        transforms.Normalize((0.1307,), (0.3081,))\n",
        "                    ]))\n",
        "\n",
        "test = datasets.MNIST('../data', train=False, transform=transforms.Compose([\n",
        "                        transforms.ToTensor(),\n",
        "                        transforms.Normalize((0.1307,), (0.3081,))\n",
        "                    ]))\n",
        "train_loader = torch.utils.data.DataLoader(train, batch_size=batch_size, shuffle=True, **kwargs)\n",
        "test_loader = torch.utils.data.DataLoader(test, batch_size=batch_size, shuffle=False, **kwargs)"
      ],
      "execution_count": 11,
      "outputs": []
    },
    {
      "cell_type": "code",
      "metadata": {
        "id": "8fDefDhaFlwH"
      },
      "source": [
        "from tqdm import tqdm\n",
        "def train(model, device, train_loader, optimizer, epoch):\n",
        "    model.train()\n",
        "    epoch_loss=0\n",
        "    correct = 0\n",
        "    pbar = tqdm(train_loader)\n",
        "    for batch_idx, (data, target) in enumerate(pbar):\n",
        "        data, target = data.to(device), target.to(device)\n",
        "        optimizer.zero_grad()\n",
        "        output = model(data)\n",
        "        loss = F.nll_loss(output, target)\n",
        "        epoch_loss += loss.item()\n",
        "        loss.backward()\n",
        "        optimizer.step()\n",
        "\n",
        "\n",
        "        pred = output.argmax(dim=1, keepdim=True)  # get the index of the max log-probability\n",
        "        correct += pred.eq(target.view_as(pred)).sum().item()\n",
        "\n",
        "        pbar.set_description(desc= f'epoch={epoch} Loss={loss.item()} batch_id={batch_idx:05d}')\n",
        "\n",
        "\n",
        "    train_loss = epoch_loss / len(train_loader.dataset)\n",
        "    train_acc=100.*correct/len(train_loader.dataset)\n",
        "    return train_loss,train_acc\n",
        "\n",
        "\n",
        "def test(model, device, test_loader):\n",
        "    model.eval()\n",
        "    test_loss = 0\n",
        "    correct = 0\n",
        "    with torch.no_grad():\n",
        "        for data, target in test_loader:\n",
        "            data, target = data.to(device), target.to(device)\n",
        "            output = model(data)\n",
        "            test_loss += F.nll_loss(output, target, reduction='sum').item()  # sum up batch loss\n",
        "            pred = output.argmax(dim=1, keepdim=True)  # get the index of the max log-probability\n",
        "            correct += pred.eq(target.view_as(pred)).sum().item()\n",
        "\n",
        "    test_loss /= len(test_loader.dataset)\n",
        "\n",
        "    print('Test set: Average loss: {:.4f}, Accuracy: {}/{} ({:.2f}%)\\n'.format(\n",
        "        test_loss, correct, len(test_loader.dataset),\n",
        "        100. * correct / len(test_loader.dataset)))\n",
        "    test_acc=100. * correct / len(test_loader.dataset)\n",
        "    return test_loss,test_acc"
      ],
      "execution_count": 12,
      "outputs": []
    },
    {
      "cell_type": "code",
      "source": [
        "model = Net().to(device)\n",
        "optimizer = optim.SGD(model.parameters(), lr=0.02, momentum=0.7)\n",
        "\n",
        "train_loss_values = []\n",
        "test_loss_values = []\n",
        "train_accuracy=[]\n",
        "test_accuracy=[]\n",
        "\n",
        "\n",
        "for epoch in range(1, 20):\n",
        "    train_loss,train_acc = train(model, device, train_loader, optimizer, epoch)\n",
        "    test_loss,test_acc = test(model, device, test_loader)\n",
        "\n",
        "    train_loss_values.append(train_loss)\n",
        "    test_loss_values.append(test_loss)\n",
        "\n",
        "    train_accuracy.append(train_acc)\n",
        "    test_accuracy.append(test_acc)"
      ],
      "metadata": {
        "colab": {
          "base_uri": "https://localhost:8080/"
        },
        "id": "th5FYRc2zrqL",
        "outputId": "59cad141-eb97-4e80-889d-55cea6a0ff78"
      },
      "execution_count": 14,
      "outputs": [
        {
          "output_type": "stream",
          "name": "stderr",
          "text": [
            "epoch=1 Loss=0.10399410873651505 batch_id=00468: 100%|██████████| 469/469 [00:22<00:00, 20.98it/s]\n"
          ]
        },
        {
          "output_type": "stream",
          "name": "stdout",
          "text": [
            "Test set: Average loss: 0.0729, Accuracy: 9795/10000 (97.95%)\n",
            "\n"
          ]
        },
        {
          "output_type": "stream",
          "name": "stderr",
          "text": [
            "epoch=2 Loss=0.02757311426103115 batch_id=00468: 100%|██████████| 469/469 [00:22<00:00, 20.64it/s]\n"
          ]
        },
        {
          "output_type": "stream",
          "name": "stdout",
          "text": [
            "Test set: Average loss: 0.0554, Accuracy: 9816/10000 (98.16%)\n",
            "\n"
          ]
        },
        {
          "output_type": "stream",
          "name": "stderr",
          "text": [
            "epoch=3 Loss=0.040557343512773514 batch_id=00468: 100%|██████████| 469/469 [00:22<00:00, 21.22it/s]\n"
          ]
        },
        {
          "output_type": "stream",
          "name": "stdout",
          "text": [
            "Test set: Average loss: 0.0480, Accuracy: 9847/10000 (98.47%)\n",
            "\n"
          ]
        },
        {
          "output_type": "stream",
          "name": "stderr",
          "text": [
            "epoch=4 Loss=0.020351147279143333 batch_id=00468: 100%|██████████| 469/469 [00:20<00:00, 22.41it/s]\n"
          ]
        },
        {
          "output_type": "stream",
          "name": "stdout",
          "text": [
            "Test set: Average loss: 0.0438, Accuracy: 9857/10000 (98.57%)\n",
            "\n"
          ]
        },
        {
          "output_type": "stream",
          "name": "stderr",
          "text": [
            "epoch=5 Loss=0.025274403393268585 batch_id=00468: 100%|██████████| 469/469 [00:21<00:00, 22.09it/s]\n"
          ]
        },
        {
          "output_type": "stream",
          "name": "stdout",
          "text": [
            "Test set: Average loss: 0.0393, Accuracy: 9872/10000 (98.72%)\n",
            "\n"
          ]
        },
        {
          "output_type": "stream",
          "name": "stderr",
          "text": [
            "epoch=6 Loss=0.021971091628074646 batch_id=00468: 100%|██████████| 469/469 [00:21<00:00, 21.79it/s]\n"
          ]
        },
        {
          "output_type": "stream",
          "name": "stdout",
          "text": [
            "Test set: Average loss: 0.0383, Accuracy: 9878/10000 (98.78%)\n",
            "\n"
          ]
        },
        {
          "output_type": "stream",
          "name": "stderr",
          "text": [
            "epoch=7 Loss=0.01498644519597292 batch_id=00468: 100%|██████████| 469/469 [00:20<00:00, 22.65it/s]\n"
          ]
        },
        {
          "output_type": "stream",
          "name": "stdout",
          "text": [
            "Test set: Average loss: 0.0459, Accuracy: 9858/10000 (98.58%)\n",
            "\n"
          ]
        },
        {
          "output_type": "stream",
          "name": "stderr",
          "text": [
            "epoch=8 Loss=0.09274668246507645 batch_id=00468: 100%|██████████| 469/469 [00:20<00:00, 22.71it/s]\n"
          ]
        },
        {
          "output_type": "stream",
          "name": "stdout",
          "text": [
            "Test set: Average loss: 0.0322, Accuracy: 9895/10000 (98.95%)\n",
            "\n"
          ]
        },
        {
          "output_type": "stream",
          "name": "stderr",
          "text": [
            "epoch=9 Loss=0.06995870918035507 batch_id=00468: 100%|██████████| 469/469 [00:20<00:00, 22.78it/s]\n"
          ]
        },
        {
          "output_type": "stream",
          "name": "stdout",
          "text": [
            "Test set: Average loss: 0.0324, Accuracy: 9897/10000 (98.97%)\n",
            "\n"
          ]
        },
        {
          "output_type": "stream",
          "name": "stderr",
          "text": [
            "epoch=10 Loss=0.05770690366625786 batch_id=00468: 100%|██████████| 469/469 [00:20<00:00, 22.65it/s]\n"
          ]
        },
        {
          "output_type": "stream",
          "name": "stdout",
          "text": [
            "Test set: Average loss: 0.0326, Accuracy: 9900/10000 (99.00%)\n",
            "\n"
          ]
        },
        {
          "output_type": "stream",
          "name": "stderr",
          "text": [
            "epoch=11 Loss=0.04096147045493126 batch_id=00468: 100%|██████████| 469/469 [00:20<00:00, 22.58it/s]\n"
          ]
        },
        {
          "output_type": "stream",
          "name": "stdout",
          "text": [
            "Test set: Average loss: 0.0292, Accuracy: 9902/10000 (99.02%)\n",
            "\n"
          ]
        },
        {
          "output_type": "stream",
          "name": "stderr",
          "text": [
            "epoch=12 Loss=0.035513609647750854 batch_id=00468: 100%|██████████| 469/469 [00:20<00:00, 22.66it/s]\n"
          ]
        },
        {
          "output_type": "stream",
          "name": "stdout",
          "text": [
            "Test set: Average loss: 0.0263, Accuracy: 9916/10000 (99.16%)\n",
            "\n"
          ]
        },
        {
          "output_type": "stream",
          "name": "stderr",
          "text": [
            "epoch=13 Loss=0.01344356406480074 batch_id=00468: 100%|██████████| 469/469 [00:21<00:00, 21.93it/s]\n"
          ]
        },
        {
          "output_type": "stream",
          "name": "stdout",
          "text": [
            "Test set: Average loss: 0.0297, Accuracy: 9896/10000 (98.96%)\n",
            "\n"
          ]
        },
        {
          "output_type": "stream",
          "name": "stderr",
          "text": [
            "epoch=14 Loss=0.007912804372608662 batch_id=00468: 100%|██████████| 469/469 [00:20<00:00, 22.37it/s]\n"
          ]
        },
        {
          "output_type": "stream",
          "name": "stdout",
          "text": [
            "Test set: Average loss: 0.0298, Accuracy: 9902/10000 (99.02%)\n",
            "\n"
          ]
        },
        {
          "output_type": "stream",
          "name": "stderr",
          "text": [
            "epoch=15 Loss=0.05655677616596222 batch_id=00468: 100%|██████████| 469/469 [00:20<00:00, 22.43it/s]\n"
          ]
        },
        {
          "output_type": "stream",
          "name": "stdout",
          "text": [
            "Test set: Average loss: 0.0263, Accuracy: 9914/10000 (99.14%)\n",
            "\n"
          ]
        },
        {
          "output_type": "stream",
          "name": "stderr",
          "text": [
            "epoch=16 Loss=0.016426850110292435 batch_id=00468: 100%|██████████| 469/469 [00:20<00:00, 22.46it/s]\n"
          ]
        },
        {
          "output_type": "stream",
          "name": "stdout",
          "text": [
            "Test set: Average loss: 0.0286, Accuracy: 9913/10000 (99.13%)\n",
            "\n"
          ]
        },
        {
          "output_type": "stream",
          "name": "stderr",
          "text": [
            "epoch=17 Loss=0.036421921104192734 batch_id=00468: 100%|██████████| 469/469 [00:21<00:00, 22.14it/s]\n"
          ]
        },
        {
          "output_type": "stream",
          "name": "stdout",
          "text": [
            "Test set: Average loss: 0.0256, Accuracy: 9913/10000 (99.13%)\n",
            "\n"
          ]
        },
        {
          "output_type": "stream",
          "name": "stderr",
          "text": [
            "epoch=18 Loss=0.03774150088429451 batch_id=00468: 100%|██████████| 469/469 [00:20<00:00, 22.42it/s]\n"
          ]
        },
        {
          "output_type": "stream",
          "name": "stdout",
          "text": [
            "Test set: Average loss: 0.0262, Accuracy: 9913/10000 (99.13%)\n",
            "\n"
          ]
        },
        {
          "output_type": "stream",
          "name": "stderr",
          "text": [
            "epoch=19 Loss=0.0114607447758317 batch_id=00468: 100%|██████████| 469/469 [00:21<00:00, 22.01it/s]\n"
          ]
        },
        {
          "output_type": "stream",
          "name": "stdout",
          "text": [
            "Test set: Average loss: 0.0296, Accuracy: 9910/10000 (99.10%)\n",
            "\n"
          ]
        }
      ]
    },
    {
      "cell_type": "code",
      "source": [
        "\n",
        "import numpy as np\n",
        "import seaborn as sns\n",
        "\n",
        "# Use plot styling from seaborn.\n",
        "sns.set(style='darkgrid')\n",
        "\n",
        "# Increase the plot size and font size.\n",
        "sns.set(font_scale=1)\n",
        "plt.rcParams[\"figure.figsize\"] = (25,6)\n",
        "\n",
        "# Plot the learning curve.\n",
        "fig, (ax1,ax2) = plt.subplots(1,2)\n",
        "ax1.plot(np.array(train_loss_values), 'r', label=\"Training Loss\")\n",
        "ax1.plot(np.array(test_loss_values), 'b', label=\"Validation Loss\")\n",
        "\n",
        "# Label the plot.\n",
        "ax1.set_title(\"Training & Validation Loss\")\n",
        "ax1.set_xlabel(\"Epoch\")\n",
        "ax1.set_ylabel(\"Loss\")\n",
        "ax1.legend()\n",
        "\n",
        "ax2.plot(np.array(train_accuracy), 'r', label=\"Training Accuracy\")\n",
        "ax2.plot(np.array(test_accuracy), 'b', label=\"Validation Accuracy\")\n",
        "\n",
        "# Label the plot.\n",
        "ax2.set_title(\"Training & Validation Accuracy\")\n",
        "ax2.set_xlabel(\"Epoch\")\n",
        "ax2.set_ylabel(\"Loss\")\n",
        "ax2.legend()\n",
        "\n",
        "plt.show()"
      ],
      "metadata": {
        "id": "8lsG20fK2Pta",
        "colab": {
          "base_uri": "https://localhost:8080/",
          "height": 430
        },
        "outputId": "4d77d07c-0703-43a3-94c8-b88fceb91594"
      },
      "execution_count": 15,
      "outputs": [
        {
          "output_type": "display_data",
          "data": {
            "text/plain": [
              "<Figure size 1800x432 with 2 Axes>"
            ],
            "image/png": "[encoded data removed]"
          },
          "metadata": {}
        }
      ]
    }
  ]
}